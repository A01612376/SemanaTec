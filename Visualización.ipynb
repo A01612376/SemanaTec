{
  "nbformat": 4,
  "nbformat_minor": 0,
  "metadata": {
    "colab": {
      "provenance": [],
      "authorship_tag": "ABX9TyPXdybX5vn1yE51kaZd+g01",
      "include_colab_link": true
    },
    "kernelspec": {
      "name": "python3",
      "display_name": "Python 3"
    },
    "language_info": {
      "name": "python"
    }
  },
  "cells": [
    {
      "cell_type": "markdown",
      "metadata": {
        "id": "view-in-github",
        "colab_type": "text"
      },
      "source": [
        "<a href=\"https://colab.research.google.com/github/A01612376/SemanaTec/blob/main/Visualizaci%C3%B3n.ipynb\" target=\"_parent\"><img src=\"https://colab.research.google.com/assets/colab-badge.svg\" alt=\"Open In Colab\"/></a>"
      ]
    },
    {
      "cell_type": "code",
      "execution_count": null,
      "metadata": {
        "id": "t2n1_rZutkYO"
      },
      "outputs": [],
      "source": [
        "import numpy as np\n",
        "import pandas as pd"
      ]
    },
    {
      "cell_type": "code",
      "source": [
        "import matplotlib.pyplot as plt"
      ],
      "metadata": {
        "id": "C7Ht-ZTQt6mk"
      },
      "execution_count": null,
      "outputs": []
    },
    {
      "cell_type": "code",
      "source": [
        "x = np.linspace(0, 5, num=50)\n",
        "y1 = 0.5 * x\n",
        "\n",
        "# Configuramos el tamaño de imagen\n",
        "fig = plt.figure(figsize=(6,4))\n",
        "\n",
        "# Agregamos la gráfica\n",
        "plt.plot(x, y1, color='b', label='y=0.5x')\n",
        "\n",
        "# Agregamos títulos a los ejes y al gráfico\n",
        "plt.xlabel('x')\n",
        "plt.ylabel('y')\n",
        "plt.title('Función y=0.5x')\n",
        "\n",
        "# Cuando tenemos una sola línea, legend no hace mucho sentido.\n",
        "plt.legend(loc='best')"
      ],
      "metadata": {
        "id": "QKplLcMOt9Ez"
      },
      "execution_count": null,
      "outputs": []
    },
    {
      "cell_type": "code",
      "source": [
        "# Hay que crear el vector de la segunda función\n",
        "y2 = np.sin(x)\n",
        "\n",
        "# Usamos el mismo código del gráfico anterior, pero agregamos un segundo plot\n",
        "\n",
        "# Configuramos el tamaño de imagen\n",
        "fig = plt.figure(figsize=(6,4))\n",
        "\n",
        "# Colocamos la primera gráfica, y1, con un color determinado. En este caso azúl (b).\n",
        "plt.plot(x, y1, color='b', label='y=0.5x')\n",
        "\n",
        "# A continuación, agregamos la segunda gráfica, y2, de color rojo (r).\n",
        "plt.plot(x, y2, color='r', label='y=sin(x)')\n",
        "\n",
        "# Agregamos títulos a los ejes y al gráfico\n",
        "plt.xlabel('x')\n",
        "plt.ylabel('y')\n",
        "plt.title('Gráfico de dos funciones')\n",
        "\n",
        "# Aquí la leyenda hace mucho más sentido\n",
        "plt.legend(loc='best')\n",
        "\n",
        "# Agregamos la cuadrícula para que se vea mejor\n",
        "plt.grid(True)"
      ],
      "metadata": {
        "id": "Tec1Z07LuAA8"
      },
      "execution_count": null,
      "outputs": []
    },
    {
      "cell_type": "code",
      "source": [],
      "metadata": {
        "id": "eR5P9ReeuDIz"
      },
      "execution_count": null,
      "outputs": []
    }
  ]
}