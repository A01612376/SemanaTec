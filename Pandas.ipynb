{
  "nbformat": 4,
  "nbformat_minor": 0,
  "metadata": {
    "colab": {
      "provenance": [],
      "authorship_tag": "ABX9TyN44NvoNNhoD4yqO4SMgsgA",
      "include_colab_link": true
    },
    "kernelspec": {
      "name": "python3",
      "display_name": "Python 3"
    },
    "language_info": {
      "name": "python"
    }
  },
  "cells": [
    {
      "cell_type": "markdown",
      "metadata": {
        "id": "view-in-github",
        "colab_type": "text"
      },
      "source": [
        "<a href=\"https://colab.research.google.com/github/A01612376/SemanaTec/blob/main/Pandas.ipynb\" target=\"_parent\"><img src=\"https://colab.research.google.com/assets/colab-badge.svg\" alt=\"Open In Colab\"/></a>"
      ]
    },
    {
      "cell_type": "code",
      "execution_count": null,
      "metadata": {
        "id": "DonCNdy4paI8"
      },
      "outputs": [],
      "source": [
        "from google.colab import files\n",
        "\n",
        "uploaded = files.upload()\n",
        "\n",
        "for fn in uploaded.keys():\n",
        "  print('User uploaded file \"{name}\" with length {length} bytes'.format(\n",
        "      name=fn, length=len(uploaded[fn])))"
      ]
    },
    {
      "cell_type": "code",
      "source": [
        "import pandas as pd\n",
        "import numpy as np"
      ],
      "metadata": {
        "id": "mhJWu7neqxWN"
      },
      "execution_count": null,
      "outputs": []
    },
    {
      "cell_type": "code",
      "source": [
        "df = pd.read_csv('tmdb_5000_movies.csv')\n",
        "# El método `head` nos permite desplegar las primeras línea de un DataFrame.\n",
        "df.head(2)"
      ],
      "metadata": {
        "id": "Po1Han2uq4Hs"
      },
      "execution_count": null,
      "outputs": []
    },
    {
      "cell_type": "code",
      "source": [
        "# El método `info` nos despliega información sobre el tipo de dato de las columnas (características).\n",
        "df.info()"
      ],
      "metadata": {
        "id": "iG1pTaGdrGD8"
      },
      "execution_count": null,
      "outputs": []
    },
    {
      "cell_type": "code",
      "source": [
        "# El método `describe` nos da información estadística básica de las calumnas.\n",
        "df.describe()"
      ],
      "metadata": {
        "id": "Xq4GTJBSrIUc"
      },
      "execution_count": null,
      "outputs": []
    },
    {
      "cell_type": "code",
      "source": [
        "df = pd.read_csv('salesman.txt')\n",
        "df.head()"
      ],
      "metadata": {
        "id": "jazGD38zrLuD"
      },
      "execution_count": null,
      "outputs": []
    },
    {
      "cell_type": "code",
      "source": [
        "df = pd.read_html('page.html')\n",
        "print('Total tables:', len(df))\n",
        "print(df[0])\n",
        "print(df[1])"
      ],
      "metadata": {
        "id": "znMnsCi4rU9l"
      },
      "execution_count": null,
      "outputs": []
    }
  ]
}